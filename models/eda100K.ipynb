{
 "cells": [
  {
   "cell_type": "markdown",
   "metadata": {},
   "source": [
    "Exploratory data analysis for the movie lens 100K rating dataset. Practice with Ipython notebook and python data analysis libraries. "
   ]
  },
  {
   "cell_type": "code",
   "execution_count": 136,
   "metadata": {
    "collapsed": true
   },
   "outputs": [],
   "source": [
    "# Import libraries \n",
    "%matplotlib inline\n",
    "import pandas as pd\n",
    "import numpy as np \n",
    "import matplotlib.pyplot as plt\n",
    "from math import sqrt, pi \n",
    "import sys"
   ]
  },
  {
   "cell_type": "code",
   "execution_count": 129,
   "metadata": {},
   "outputs": [
    {
     "name": "stdout",
     "output_type": "stream",
     "text": [
      "Python version: 2.7.13 |Continuum Analytics, Inc.| (default, Dec 20 2016, 23:05:08) \n",
      "[GCC 4.2.1 Compatible Apple LLVM 6.0 (clang-600.0.57)]\n",
      "Pandas version: 0.20.1\n",
      "Numpy version:1.11.2\n"
     ]
    }
   ],
   "source": [
    "# Print the versions \n",
    "print 'Python version: ' + sys.version\n",
    "print 'Pandas version: ' + pd.__version__\n",
    "print 'Numpy version:' + np.__version__"
   ]
  },
  {
   "cell_type": "code",
   "execution_count": 68,
   "metadata": {
    "collapsed": true
   },
   "outputs": [],
   "source": [
    "Location1 = '../datasets/100k/ml-100k/ml-100k/u.data'"
   ]
  },
  {
   "cell_type": "code",
   "execution_count": 69,
   "metadata": {},
   "outputs": [],
   "source": [
    "rating = pd.read_csv(Location1, sep = '\\t', header = None, \n",
    "                 names = ['user id', 'item id', 'rating', 'timestamp'])"
   ]
  },
  {
   "cell_type": "code",
   "execution_count": 70,
   "metadata": {
    "collapsed": true
   },
   "outputs": [],
   "source": [
    "Location2 = '../datasets/100k/ml-100k/ml-100k/u.item'"
   ]
  },
  {
   "cell_type": "code",
   "execution_count": 71,
   "metadata": {},
   "outputs": [],
   "source": [
    "itemInfoList = ['movie id' ,'movie title' , 'release date' , 'video release date', \\\n",
    "              'IMDb URL' , 'unknown' , 'Action' , 'Adventure' , 'Animation' , \\\n",
    "              'Children\\'s' , 'Comedy' , 'Crime' , 'Documentary' , 'Drama' , 'Fantasy' ,\\\n",
    "              'Film-Noir' , 'Horror' , 'Musical' , 'Mystery' , 'Romance' , 'Sci-Fi' , \\\n",
    "              'Thriller' , 'War' , 'Western' ]"
   ]
  },
  {
   "cell_type": "code",
   "execution_count": 72,
   "metadata": {},
   "outputs": [],
   "source": [
    "movies = pd.read_csv(Location2 , sep = '|' , header = None, names = itemInfoList)"
   ]
  },
  {
   "cell_type": "code",
   "execution_count": 95,
   "metadata": {},
   "outputs": [
    {
     "data": {
      "text/html": [
       "<div>\n",
       "<style>\n",
       "    .dataframe thead tr:only-child th {\n",
       "        text-align: right;\n",
       "    }\n",
       "\n",
       "    .dataframe thead th {\n",
       "        text-align: left;\n",
       "    }\n",
       "\n",
       "    .dataframe tbody tr th {\n",
       "        vertical-align: top;\n",
       "    }\n",
       "</style>\n",
       "<table border=\"1\" class=\"dataframe\">\n",
       "  <thead>\n",
       "    <tr style=\"text-align: right;\">\n",
       "      <th></th>\n",
       "      <th>user id</th>\n",
       "      <th>item id</th>\n",
       "      <th>rating</th>\n",
       "      <th>timestamp</th>\n",
       "    </tr>\n",
       "  </thead>\n",
       "  <tbody>\n",
       "    <tr>\n",
       "      <th>0</th>\n",
       "      <td>196</td>\n",
       "      <td>242</td>\n",
       "      <td>3</td>\n",
       "      <td>881250949</td>\n",
       "    </tr>\n",
       "    <tr>\n",
       "      <th>1</th>\n",
       "      <td>186</td>\n",
       "      <td>302</td>\n",
       "      <td>3</td>\n",
       "      <td>891717742</td>\n",
       "    </tr>\n",
       "  </tbody>\n",
       "</table>\n",
       "</div>"
      ],
      "text/plain": [
       "   user id  item id  rating  timestamp\n",
       "0      196      242       3  881250949\n",
       "1      186      302       3  891717742"
      ]
     },
     "execution_count": 95,
     "metadata": {},
     "output_type": "execute_result"
    }
   ],
   "source": [
    "rating.head(2)"
   ]
  },
  {
   "cell_type": "code",
   "execution_count": 74,
   "metadata": {},
   "outputs": [
    {
     "data": {
      "text/plain": [
       "(100000, 4)"
      ]
     },
     "execution_count": 74,
     "metadata": {},
     "output_type": "execute_result"
    }
   ],
   "source": [
    "ratings.shape"
   ]
  },
  {
   "cell_type": "code",
   "execution_count": 94,
   "metadata": {},
   "outputs": [
    {
     "data": {
      "text/html": [
       "<div>\n",
       "<style>\n",
       "    .dataframe thead tr:only-child th {\n",
       "        text-align: right;\n",
       "    }\n",
       "\n",
       "    .dataframe thead th {\n",
       "        text-align: left;\n",
       "    }\n",
       "\n",
       "    .dataframe tbody tr th {\n",
       "        vertical-align: top;\n",
       "    }\n",
       "</style>\n",
       "<table border=\"1\" class=\"dataframe\">\n",
       "  <thead>\n",
       "    <tr style=\"text-align: right;\">\n",
       "      <th></th>\n",
       "      <th>movie id</th>\n",
       "      <th>movie title</th>\n",
       "      <th>release date</th>\n",
       "      <th>video release date</th>\n",
       "      <th>IMDb URL</th>\n",
       "      <th>unknown</th>\n",
       "      <th>Action</th>\n",
       "      <th>Adventure</th>\n",
       "      <th>Animation</th>\n",
       "      <th>Children's</th>\n",
       "      <th>...</th>\n",
       "      <th>Fantasy</th>\n",
       "      <th>Film-Noir</th>\n",
       "      <th>Horror</th>\n",
       "      <th>Musical</th>\n",
       "      <th>Mystery</th>\n",
       "      <th>Romance</th>\n",
       "      <th>Sci-Fi</th>\n",
       "      <th>Thriller</th>\n",
       "      <th>War</th>\n",
       "      <th>Western</th>\n",
       "    </tr>\n",
       "  </thead>\n",
       "  <tbody>\n",
       "    <tr>\n",
       "      <th>1680</th>\n",
       "      <td>1681</td>\n",
       "      <td>You So Crazy (1994)</td>\n",
       "      <td>01-Jan-1994</td>\n",
       "      <td>NaN</td>\n",
       "      <td>http://us.imdb.com/M/title-exact?You%20So%20Cr...</td>\n",
       "      <td>0</td>\n",
       "      <td>0</td>\n",
       "      <td>0</td>\n",
       "      <td>0</td>\n",
       "      <td>0</td>\n",
       "      <td>...</td>\n",
       "      <td>0</td>\n",
       "      <td>0</td>\n",
       "      <td>0</td>\n",
       "      <td>0</td>\n",
       "      <td>0</td>\n",
       "      <td>0</td>\n",
       "      <td>0</td>\n",
       "      <td>0</td>\n",
       "      <td>0</td>\n",
       "      <td>0</td>\n",
       "    </tr>\n",
       "    <tr>\n",
       "      <th>1681</th>\n",
       "      <td>1682</td>\n",
       "      <td>Scream of Stone (Schrei aus Stein) (1991)</td>\n",
       "      <td>08-Mar-1996</td>\n",
       "      <td>NaN</td>\n",
       "      <td>http://us.imdb.com/M/title-exact?Schrei%20aus%...</td>\n",
       "      <td>0</td>\n",
       "      <td>0</td>\n",
       "      <td>0</td>\n",
       "      <td>0</td>\n",
       "      <td>0</td>\n",
       "      <td>...</td>\n",
       "      <td>0</td>\n",
       "      <td>0</td>\n",
       "      <td>0</td>\n",
       "      <td>0</td>\n",
       "      <td>0</td>\n",
       "      <td>0</td>\n",
       "      <td>0</td>\n",
       "      <td>0</td>\n",
       "      <td>0</td>\n",
       "      <td>0</td>\n",
       "    </tr>\n",
       "  </tbody>\n",
       "</table>\n",
       "<p>2 rows × 24 columns</p>\n",
       "</div>"
      ],
      "text/plain": [
       "      movie id                                movie title release date  \\\n",
       "1680      1681                        You So Crazy (1994)  01-Jan-1994   \n",
       "1681      1682  Scream of Stone (Schrei aus Stein) (1991)  08-Mar-1996   \n",
       "\n",
       "      video release date                                           IMDb URL  \\\n",
       "1680                 NaN  http://us.imdb.com/M/title-exact?You%20So%20Cr...   \n",
       "1681                 NaN  http://us.imdb.com/M/title-exact?Schrei%20aus%...   \n",
       "\n",
       "      unknown  Action  Adventure  Animation  Children's   ...     Fantasy  \\\n",
       "1680        0       0          0          0           0   ...           0   \n",
       "1681        0       0          0          0           0   ...           0   \n",
       "\n",
       "      Film-Noir  Horror  Musical  Mystery  Romance  Sci-Fi  Thriller  War  \\\n",
       "1680          0       0        0        0        0       0         0    0   \n",
       "1681          0       0        0        0        0       0         0    0   \n",
       "\n",
       "      Western  \n",
       "1680        0  \n",
       "1681        0  \n",
       "\n",
       "[2 rows x 24 columns]"
      ]
     },
     "execution_count": 94,
     "metadata": {},
     "output_type": "execute_result"
    }
   ],
   "source": [
    "movies.tail(2)"
   ]
  },
  {
   "cell_type": "code",
   "execution_count": 76,
   "metadata": {},
   "outputs": [
    {
     "data": {
      "text/plain": [
       "(1682, 24)"
      ]
     },
     "execution_count": 76,
     "metadata": {},
     "output_type": "execute_result"
    }
   ],
   "source": [
    "movies.shape"
   ]
  },
  {
   "cell_type": "code",
   "execution_count": 81,
   "metadata": {},
   "outputs": [
    {
     "data": {
      "text/plain": [
       "count    100000.000000\n",
       "mean          3.529860\n",
       "std           1.125674\n",
       "min           1.000000\n",
       "25%           3.000000\n",
       "50%           4.000000\n",
       "75%           4.000000\n",
       "max           5.000000\n",
       "Name: rating, dtype: float64"
      ]
     },
     "execution_count": 81,
     "metadata": {},
     "output_type": "execute_result"
    }
   ],
   "source": [
    "rating['rating'].describe()"
   ]
  },
  {
   "cell_type": "code",
   "execution_count": 86,
   "metadata": {},
   "outputs": [
    {
     "data": {
      "text/plain": [
       "Index([u'user id', u'item id', u'rating', u'timestamp'], dtype='object')"
      ]
     },
     "execution_count": 86,
     "metadata": {},
     "output_type": "execute_result"
    }
   ],
   "source": [
    "rating.columns"
   ]
  },
  {
   "cell_type": "code",
   "execution_count": 88,
   "metadata": {},
   "outputs": [
    {
     "data": {
      "text/plain": [
       "Index([u'movie id', u'movie title', u'release date', u'video release date',\n",
       "       u'IMDb URL', u'unknown', u'Action', u'Adventure', u'Animation',\n",
       "       u'Children's', u'Comedy', u'Crime', u'Documentary', u'Drama',\n",
       "       u'Fantasy', u'Film-Noir', u'Horror', u'Musical', u'Mystery', u'Romance',\n",
       "       u'Sci-Fi', u'Thriller', u'War', u'Western'],\n",
       "      dtype='object')"
      ]
     },
     "execution_count": 88,
     "metadata": {},
     "output_type": "execute_result"
    }
   ],
   "source": [
    "movies.columns"
   ]
  },
  {
   "cell_type": "code",
   "execution_count": 92,
   "metadata": {},
   "outputs": [
    {
     "data": {
      "text/html": [
       "<div>\n",
       "<style>\n",
       "    .dataframe thead tr:only-child th {\n",
       "        text-align: right;\n",
       "    }\n",
       "\n",
       "    .dataframe thead th {\n",
       "        text-align: left;\n",
       "    }\n",
       "\n",
       "    .dataframe tbody tr th {\n",
       "        vertical-align: top;\n",
       "    }\n",
       "</style>\n",
       "<table border=\"1\" class=\"dataframe\">\n",
       "  <thead>\n",
       "    <tr style=\"text-align: right;\">\n",
       "      <th></th>\n",
       "      <th>movie id</th>\n",
       "      <th>movie title</th>\n",
       "      <th>release date</th>\n",
       "      <th>video release date</th>\n",
       "      <th>IMDb URL</th>\n",
       "      <th>unknown</th>\n",
       "      <th>Action</th>\n",
       "      <th>Adventure</th>\n",
       "      <th>Animation</th>\n",
       "      <th>Children's</th>\n",
       "      <th>...</th>\n",
       "      <th>Fantasy</th>\n",
       "      <th>Film-Noir</th>\n",
       "      <th>Horror</th>\n",
       "      <th>Musical</th>\n",
       "      <th>Mystery</th>\n",
       "      <th>Romance</th>\n",
       "      <th>Sci-Fi</th>\n",
       "      <th>Thriller</th>\n",
       "      <th>War</th>\n",
       "      <th>Western</th>\n",
       "    </tr>\n",
       "  </thead>\n",
       "  <tbody>\n",
       "    <tr>\n",
       "      <th>0</th>\n",
       "      <td>1</td>\n",
       "      <td>Toy Story (1995)</td>\n",
       "      <td>01-Jan-1995</td>\n",
       "      <td>NaN</td>\n",
       "      <td>http://us.imdb.com/M/title-exact?Toy%20Story%2...</td>\n",
       "      <td>0</td>\n",
       "      <td>0</td>\n",
       "      <td>0</td>\n",
       "      <td>1</td>\n",
       "      <td>1</td>\n",
       "      <td>...</td>\n",
       "      <td>0</td>\n",
       "      <td>0</td>\n",
       "      <td>0</td>\n",
       "      <td>0</td>\n",
       "      <td>0</td>\n",
       "      <td>0</td>\n",
       "      <td>0</td>\n",
       "      <td>0</td>\n",
       "      <td>0</td>\n",
       "      <td>0</td>\n",
       "    </tr>\n",
       "    <tr>\n",
       "      <th>1</th>\n",
       "      <td>2</td>\n",
       "      <td>GoldenEye (1995)</td>\n",
       "      <td>01-Jan-1995</td>\n",
       "      <td>NaN</td>\n",
       "      <td>http://us.imdb.com/M/title-exact?GoldenEye%20(...</td>\n",
       "      <td>0</td>\n",
       "      <td>1</td>\n",
       "      <td>1</td>\n",
       "      <td>0</td>\n",
       "      <td>0</td>\n",
       "      <td>...</td>\n",
       "      <td>0</td>\n",
       "      <td>0</td>\n",
       "      <td>0</td>\n",
       "      <td>0</td>\n",
       "      <td>0</td>\n",
       "      <td>0</td>\n",
       "      <td>0</td>\n",
       "      <td>1</td>\n",
       "      <td>0</td>\n",
       "      <td>0</td>\n",
       "    </tr>\n",
       "    <tr>\n",
       "      <th>2</th>\n",
       "      <td>3</td>\n",
       "      <td>Four Rooms (1995)</td>\n",
       "      <td>01-Jan-1995</td>\n",
       "      <td>NaN</td>\n",
       "      <td>http://us.imdb.com/M/title-exact?Four%20Rooms%...</td>\n",
       "      <td>0</td>\n",
       "      <td>0</td>\n",
       "      <td>0</td>\n",
       "      <td>0</td>\n",
       "      <td>0</td>\n",
       "      <td>...</td>\n",
       "      <td>0</td>\n",
       "      <td>0</td>\n",
       "      <td>0</td>\n",
       "      <td>0</td>\n",
       "      <td>0</td>\n",
       "      <td>0</td>\n",
       "      <td>0</td>\n",
       "      <td>1</td>\n",
       "      <td>0</td>\n",
       "      <td>0</td>\n",
       "    </tr>\n",
       "    <tr>\n",
       "      <th>3</th>\n",
       "      <td>4</td>\n",
       "      <td>Get Shorty (1995)</td>\n",
       "      <td>01-Jan-1995</td>\n",
       "      <td>NaN</td>\n",
       "      <td>http://us.imdb.com/M/title-exact?Get%20Shorty%...</td>\n",
       "      <td>0</td>\n",
       "      <td>1</td>\n",
       "      <td>0</td>\n",
       "      <td>0</td>\n",
       "      <td>0</td>\n",
       "      <td>...</td>\n",
       "      <td>0</td>\n",
       "      <td>0</td>\n",
       "      <td>0</td>\n",
       "      <td>0</td>\n",
       "      <td>0</td>\n",
       "      <td>0</td>\n",
       "      <td>0</td>\n",
       "      <td>0</td>\n",
       "      <td>0</td>\n",
       "      <td>0</td>\n",
       "    </tr>\n",
       "    <tr>\n",
       "      <th>4</th>\n",
       "      <td>5</td>\n",
       "      <td>Copycat (1995)</td>\n",
       "      <td>01-Jan-1995</td>\n",
       "      <td>NaN</td>\n",
       "      <td>http://us.imdb.com/M/title-exact?Copycat%20(1995)</td>\n",
       "      <td>0</td>\n",
       "      <td>0</td>\n",
       "      <td>0</td>\n",
       "      <td>0</td>\n",
       "      <td>0</td>\n",
       "      <td>...</td>\n",
       "      <td>0</td>\n",
       "      <td>0</td>\n",
       "      <td>0</td>\n",
       "      <td>0</td>\n",
       "      <td>0</td>\n",
       "      <td>0</td>\n",
       "      <td>0</td>\n",
       "      <td>1</td>\n",
       "      <td>0</td>\n",
       "      <td>0</td>\n",
       "    </tr>\n",
       "  </tbody>\n",
       "</table>\n",
       "<p>5 rows × 24 columns</p>\n",
       "</div>"
      ],
      "text/plain": [
       "   movie id        movie title release date  video release date  \\\n",
       "0         1   Toy Story (1995)  01-Jan-1995                 NaN   \n",
       "1         2   GoldenEye (1995)  01-Jan-1995                 NaN   \n",
       "2         3  Four Rooms (1995)  01-Jan-1995                 NaN   \n",
       "3         4  Get Shorty (1995)  01-Jan-1995                 NaN   \n",
       "4         5     Copycat (1995)  01-Jan-1995                 NaN   \n",
       "\n",
       "                                            IMDb URL  unknown  Action  \\\n",
       "0  http://us.imdb.com/M/title-exact?Toy%20Story%2...        0       0   \n",
       "1  http://us.imdb.com/M/title-exact?GoldenEye%20(...        0       1   \n",
       "2  http://us.imdb.com/M/title-exact?Four%20Rooms%...        0       0   \n",
       "3  http://us.imdb.com/M/title-exact?Get%20Shorty%...        0       1   \n",
       "4  http://us.imdb.com/M/title-exact?Copycat%20(1995)        0       0   \n",
       "\n",
       "   Adventure  Animation  Children's   ...     Fantasy  Film-Noir  Horror  \\\n",
       "0          0          1           1   ...           0          0       0   \n",
       "1          1          0           0   ...           0          0       0   \n",
       "2          0          0           0   ...           0          0       0   \n",
       "3          0          0           0   ...           0          0       0   \n",
       "4          0          0           0   ...           0          0       0   \n",
       "\n",
       "   Musical  Mystery  Romance  Sci-Fi  Thriller  War  Western  \n",
       "0        0        0        0       0         0    0        0  \n",
       "1        0        0        0       0         1    0        0  \n",
       "2        0        0        0       0         1    0        0  \n",
       "3        0        0        0       0         0    0        0  \n",
       "4        0        0        0       0         1    0        0  \n",
       "\n",
       "[5 rows x 24 columns]"
      ]
     },
     "execution_count": 92,
     "metadata": {},
     "output_type": "execute_result"
    }
   ],
   "source": [
    "movies.iloc[0:5,:]"
   ]
  },
  {
   "cell_type": "code",
   "execution_count": 96,
   "metadata": {},
   "outputs": [
    {
     "data": {
      "text/plain": [
       "RangeIndex(start=0, stop=1682, step=1)"
      ]
     },
     "execution_count": 96,
     "metadata": {},
     "output_type": "execute_result"
    }
   ],
   "source": [
    "movies.index"
   ]
  },
  {
   "cell_type": "code",
   "execution_count": 97,
   "metadata": {},
   "outputs": [
    {
     "data": {
      "text/plain": [
       "movie title                              Dead Man Walking (1995)\n",
       "IMDb URL       http://us.imdb.com/M/title-exact?Dead%20Man%20...\n",
       "Name: 8, dtype: object"
      ]
     },
     "execution_count": 97,
     "metadata": {},
     "output_type": "execute_result"
    }
   ],
   "source": [
    "movies.loc[8,[\"movie title\" , \"IMDb URL\"]]"
   ]
  },
  {
   "cell_type": "code",
   "execution_count": 100,
   "metadata": {},
   "outputs": [
    {
     "data": {
      "text/plain": [
       "1"
      ]
     },
     "execution_count": 100,
     "metadata": {},
     "output_type": "execute_result"
    }
   ],
   "source": [
    "movies.loc[4,\"Thriller\"]"
   ]
  },
  {
   "cell_type": "code",
   "execution_count": 101,
   "metadata": {},
   "outputs": [
    {
     "data": {
      "text/plain": [
       "0                                        Toy Story (1995)\n",
       "1                                        GoldenEye (1995)\n",
       "2                                       Four Rooms (1995)\n",
       "3                                       Get Shorty (1995)\n",
       "4                                          Copycat (1995)\n",
       "5       Shanghai Triad (Yao a yao yao dao waipo qiao) ...\n",
       "6                                   Twelve Monkeys (1995)\n",
       "7                                             Babe (1995)\n",
       "8                                 Dead Man Walking (1995)\n",
       "9                                      Richard III (1995)\n",
       "10                                   Seven (Se7en) (1995)\n",
       "11                             Usual Suspects, The (1995)\n",
       "12                                Mighty Aphrodite (1995)\n",
       "13                                     Postino, Il (1994)\n",
       "14                              Mr. Holland's Opus (1995)\n",
       "15                     French Twist (Gazon maudit) (1995)\n",
       "16                             From Dusk Till Dawn (1996)\n",
       "17                              White Balloon, The (1995)\n",
       "18                                  Antonia's Line (1995)\n",
       "19                              Angels and Insects (1995)\n",
       "20                          Muppet Treasure Island (1996)\n",
       "21                                      Braveheart (1995)\n",
       "22                                     Taxi Driver (1976)\n",
       "23                             Rumble in the Bronx (1995)\n",
       "24                                   Birdcage, The (1996)\n",
       "25                          Brothers McMullen, The (1995)\n",
       "26                                        Bad Boys (1995)\n",
       "27                                       Apollo 13 (1995)\n",
       "28                                  Batman Forever (1995)\n",
       "29                                   Belle de jour (1967)\n",
       "                              ...                        \n",
       "1652    Entertaining Angels: The Dorothy Day Story (1996)\n",
       "1653                         Chairman of the Board (1998)\n",
       "1654                                    Favor, The (1994)\n",
       "1655                                   Little City (1998)\n",
       "1656                                        Target (1995)\n",
       "1657                        Substance of Fire, The (1996)\n",
       "1658                      Getting Away With Murder (1996)\n",
       "1659                                   Small Faces (1995)\n",
       "1660                                  New Age, The (1994)\n",
       "1661                                   Rough Magic (1995)\n",
       "1662                              Nothing Personal (1995)\n",
       "1663                       8 Heads in a Duffel Bag (1997)\n",
       "1664                             Brother's Kiss, A (1997)\n",
       "1665                                          Ripe (1996)\n",
       "1666                                Next Step, The (1995)\n",
       "1667                            Wedding Bell Blues (1996)\n",
       "1668                             MURDER and murder (1996)\n",
       "1669                                       Tainted (1998)\n",
       "1670                            Further Gesture, A (1996)\n",
       "1671                                          Kika (1993)\n",
       "1672                                        Mirage (1995)\n",
       "1673                                    Mamma Roma (1962)\n",
       "1674                                Sunchaser, The (1996)\n",
       "1675                              War at Home, The (1996)\n",
       "1676                                 Sweet Nothing (1995)\n",
       "1677                                    Mat' i syn (1997)\n",
       "1678                                     B. Monkey (1998)\n",
       "1679                                 Sliding Doors (1998)\n",
       "1680                                  You So Crazy (1994)\n",
       "1681            Scream of Stone (Schrei aus Stein) (1991)\n",
       "Name: movie title, Length: 1682, dtype: object"
      ]
     },
     "execution_count": 101,
     "metadata": {},
     "output_type": "execute_result"
    }
   ],
   "source": [
    "movies.iloc[:,1]"
   ]
  },
  {
   "cell_type": "code",
   "execution_count": 102,
   "metadata": {},
   "outputs": [
    {
     "data": {
      "text/plain": [
       "pandas.core.series.Series"
      ]
     },
     "execution_count": 102,
     "metadata": {},
     "output_type": "execute_result"
    }
   ],
   "source": [
    "type(movies[\"movie id\"])"
   ]
  },
  {
   "cell_type": "code",
   "execution_count": 109,
   "metadata": {
    "collapsed": true
   },
   "outputs": [],
   "source": [
    "s1 = pd.Series([0, 1])"
   ]
  },
  {
   "cell_type": "code",
   "execution_count": 110,
   "metadata": {},
   "outputs": [
    {
     "data": {
      "text/plain": [
       "0    1\n",
       "dtype: int64"
      ]
     },
     "execution_count": 110,
     "metadata": {},
     "output_type": "execute_result"
    }
   ],
   "source": [
    "s1"
   ]
  },
  {
   "cell_type": "code",
   "execution_count": 115,
   "metadata": {
    "collapsed": true
   },
   "outputs": [],
   "source": [
    "s2 = pd.Series([\"Monty Python and the Holy Grail\" , \"Batman Forever\"] ,[\"Terminator 2: Judgment Day \" , \"Purple Noon\"] )"
   ]
  },
  {
   "cell_type": "code",
   "execution_count": 116,
   "metadata": {},
   "outputs": [
    {
     "data": {
      "text/plain": [
       "Terminator 2: Judgment Day     Monty Python and the Holy Grail\n",
       "Purple Noon                                     Batman Forever\n",
       "dtype: object"
      ]
     },
     "execution_count": 116,
     "metadata": {},
     "output_type": "execute_result"
    }
   ],
   "source": [
    "s2"
   ]
  },
  {
   "cell_type": "code",
   "execution_count": 117,
   "metadata": {
    "collapsed": true
   },
   "outputs": [],
   "source": [
    "d1 = pd.DataFrame([s1, s2])"
   ]
  },
  {
   "cell_type": "code",
   "execution_count": 118,
   "metadata": {},
   "outputs": [
    {
     "data": {
      "text/html": [
       "<div>\n",
       "<style>\n",
       "    .dataframe thead tr:only-child th {\n",
       "        text-align: right;\n",
       "    }\n",
       "\n",
       "    .dataframe thead th {\n",
       "        text-align: left;\n",
       "    }\n",
       "\n",
       "    .dataframe tbody tr th {\n",
       "        vertical-align: top;\n",
       "    }\n",
       "</style>\n",
       "<table border=\"1\" class=\"dataframe\">\n",
       "  <thead>\n",
       "    <tr style=\"text-align: right;\">\n",
       "      <th></th>\n",
       "      <th>0</th>\n",
       "      <th>Purple Noon</th>\n",
       "      <th>Terminator 2: Judgment Day</th>\n",
       "    </tr>\n",
       "  </thead>\n",
       "  <tbody>\n",
       "    <tr>\n",
       "      <th>0</th>\n",
       "      <td>1.0</td>\n",
       "      <td>NaN</td>\n",
       "      <td>NaN</td>\n",
       "    </tr>\n",
       "    <tr>\n",
       "      <th>1</th>\n",
       "      <td>NaN</td>\n",
       "      <td>Batman Forever</td>\n",
       "      <td>Monty Python and the Holy Grail</td>\n",
       "    </tr>\n",
       "  </tbody>\n",
       "</table>\n",
       "</div>"
      ],
      "text/plain": [
       "     0     Purple Noon      Terminator 2: Judgment Day \n",
       "0  1.0             NaN                              NaN\n",
       "1  NaN  Batman Forever  Monty Python and the Holy Grail"
      ]
     },
     "execution_count": 118,
     "metadata": {},
     "output_type": "execute_result"
    }
   ],
   "source": [
    "d1"
   ]
  },
  {
   "cell_type": "code",
   "execution_count": 119,
   "metadata": {},
   "outputs": [
    {
     "data": {
      "text/plain": [
       "movie id              841.500000\n",
       "video release date           NaN\n",
       "unknown                 0.001189\n",
       "Action                  0.149227\n",
       "Adventure               0.080262\n",
       "Animation               0.024970\n",
       "Children's              0.072533\n",
       "Comedy                  0.300238\n",
       "Crime                   0.064804\n",
       "Documentary             0.029727\n",
       "Drama                   0.431034\n",
       "Fantasy                 0.013080\n",
       "Film-Noir               0.014269\n",
       "Horror                  0.054697\n",
       "Musical                 0.033294\n",
       "Mystery                 0.036266\n",
       "Romance                 0.146849\n",
       "Sci-Fi                  0.060048\n",
       "Thriller                0.149227\n",
       "War                     0.042212\n",
       "Western                 0.016052\n",
       "dtype: float64"
      ]
     },
     "execution_count": 119,
     "metadata": {},
     "output_type": "execute_result"
    }
   ],
   "source": [
    "movies.mean(axis = 0)"
   ]
  },
  {
   "cell_type": "code",
   "execution_count": 120,
   "metadata": {},
   "outputs": [
    {
     "data": {
      "text/html": [
       "<div>\n",
       "<style>\n",
       "    .dataframe thead tr:only-child th {\n",
       "        text-align: right;\n",
       "    }\n",
       "\n",
       "    .dataframe thead th {\n",
       "        text-align: left;\n",
       "    }\n",
       "\n",
       "    .dataframe tbody tr th {\n",
       "        vertical-align: top;\n",
       "    }\n",
       "</style>\n",
       "<table border=\"1\" class=\"dataframe\">\n",
       "  <thead>\n",
       "    <tr style=\"text-align: right;\">\n",
       "      <th></th>\n",
       "      <th>movie id</th>\n",
       "      <th>video release date</th>\n",
       "      <th>unknown</th>\n",
       "      <th>Action</th>\n",
       "      <th>Adventure</th>\n",
       "      <th>Animation</th>\n",
       "      <th>Children's</th>\n",
       "      <th>Comedy</th>\n",
       "      <th>Crime</th>\n",
       "      <th>Documentary</th>\n",
       "      <th>...</th>\n",
       "      <th>Fantasy</th>\n",
       "      <th>Film-Noir</th>\n",
       "      <th>Horror</th>\n",
       "      <th>Musical</th>\n",
       "      <th>Mystery</th>\n",
       "      <th>Romance</th>\n",
       "      <th>Sci-Fi</th>\n",
       "      <th>Thriller</th>\n",
       "      <th>War</th>\n",
       "      <th>Western</th>\n",
       "    </tr>\n",
       "  </thead>\n",
       "  <tbody>\n",
       "    <tr>\n",
       "      <th>movie id</th>\n",
       "      <td>1.000000</td>\n",
       "      <td>NaN</td>\n",
       "      <td>-0.001528</td>\n",
       "      <td>-0.161782</td>\n",
       "      <td>-0.131970</td>\n",
       "      <td>-0.072909</td>\n",
       "      <td>-0.078990</td>\n",
       "      <td>-0.026140</td>\n",
       "      <td>-0.038261</td>\n",
       "      <td>0.058067</td>\n",
       "      <td>...</td>\n",
       "      <td>-0.004451</td>\n",
       "      <td>-0.014258</td>\n",
       "      <td>-0.109474</td>\n",
       "      <td>-0.084051</td>\n",
       "      <td>-0.058399</td>\n",
       "      <td>-0.045284</td>\n",
       "      <td>-0.166129</td>\n",
       "      <td>-0.109576</td>\n",
       "      <td>-0.106869</td>\n",
       "      <td>-0.044627</td>\n",
       "    </tr>\n",
       "    <tr>\n",
       "      <th>video release date</th>\n",
       "      <td>NaN</td>\n",
       "      <td>NaN</td>\n",
       "      <td>NaN</td>\n",
       "      <td>NaN</td>\n",
       "      <td>NaN</td>\n",
       "      <td>NaN</td>\n",
       "      <td>NaN</td>\n",
       "      <td>NaN</td>\n",
       "      <td>NaN</td>\n",
       "      <td>NaN</td>\n",
       "      <td>...</td>\n",
       "      <td>NaN</td>\n",
       "      <td>NaN</td>\n",
       "      <td>NaN</td>\n",
       "      <td>NaN</td>\n",
       "      <td>NaN</td>\n",
       "      <td>NaN</td>\n",
       "      <td>NaN</td>\n",
       "      <td>NaN</td>\n",
       "      <td>NaN</td>\n",
       "      <td>NaN</td>\n",
       "    </tr>\n",
       "    <tr>\n",
       "      <th>unknown</th>\n",
       "      <td>-0.001528</td>\n",
       "      <td>NaN</td>\n",
       "      <td>1.000000</td>\n",
       "      <td>-0.014450</td>\n",
       "      <td>-0.010193</td>\n",
       "      <td>-0.005522</td>\n",
       "      <td>-0.009649</td>\n",
       "      <td>-0.022600</td>\n",
       "      <td>-0.009083</td>\n",
       "      <td>-0.006039</td>\n",
       "      <td>...</td>\n",
       "      <td>-0.003972</td>\n",
       "      <td>-0.004151</td>\n",
       "      <td>-0.008300</td>\n",
       "      <td>-0.006403</td>\n",
       "      <td>-0.006693</td>\n",
       "      <td>-0.014315</td>\n",
       "      <td>-0.008721</td>\n",
       "      <td>-0.014450</td>\n",
       "      <td>-0.007243</td>\n",
       "      <td>-0.004407</td>\n",
       "    </tr>\n",
       "    <tr>\n",
       "      <th>Action</th>\n",
       "      <td>-0.161782</td>\n",
       "      <td>NaN</td>\n",
       "      <td>-0.014450</td>\n",
       "      <td>1.000000</td>\n",
       "      <td>0.336875</td>\n",
       "      <td>-0.034942</td>\n",
       "      <td>-0.059222</td>\n",
       "      <td>-0.157842</td>\n",
       "      <td>0.045644</td>\n",
       "      <td>-0.073306</td>\n",
       "      <td>...</td>\n",
       "      <td>0.010530</td>\n",
       "      <td>-0.050388</td>\n",
       "      <td>-0.005349</td>\n",
       "      <td>-0.040520</td>\n",
       "      <td>-0.000918</td>\n",
       "      <td>-0.055904</td>\n",
       "      <td>0.273404</td>\n",
       "      <td>0.217960</td>\n",
       "      <td>0.086343</td>\n",
       "      <td>0.052720</td>\n",
       "    </tr>\n",
       "    <tr>\n",
       "      <th>Adventure</th>\n",
       "      <td>-0.131970</td>\n",
       "      <td>NaN</td>\n",
       "      <td>-0.010193</td>\n",
       "      <td>0.336875</td>\n",
       "      <td>1.000000</td>\n",
       "      <td>0.036869</td>\n",
       "      <td>0.271729</td>\n",
       "      <td>-0.107568</td>\n",
       "      <td>-0.015542</td>\n",
       "      <td>-0.051707</td>\n",
       "      <td>...</td>\n",
       "      <td>0.158589</td>\n",
       "      <td>-0.035541</td>\n",
       "      <td>-0.042189</td>\n",
       "      <td>0.006164</td>\n",
       "      <td>-0.033896</td>\n",
       "      <td>-0.036009</td>\n",
       "      <td>0.238495</td>\n",
       "      <td>0.005247</td>\n",
       "      <td>0.035928</td>\n",
       "      <td>-0.002909</td>\n",
       "    </tr>\n",
       "    <tr>\n",
       "      <th>Animation</th>\n",
       "      <td>-0.072909</td>\n",
       "      <td>NaN</td>\n",
       "      <td>-0.005522</td>\n",
       "      <td>-0.034942</td>\n",
       "      <td>0.036869</td>\n",
       "      <td>1.000000</td>\n",
       "      <td>0.440034</td>\n",
       "      <td>-0.021696</td>\n",
       "      <td>-0.042126</td>\n",
       "      <td>-0.028011</td>\n",
       "      <td>...</td>\n",
       "      <td>0.048649</td>\n",
       "      <td>-0.019254</td>\n",
       "      <td>-0.021738</td>\n",
       "      <td>0.331357</td>\n",
       "      <td>-0.031044</td>\n",
       "      <td>-0.044864</td>\n",
       "      <td>0.023704</td>\n",
       "      <td>-0.034942</td>\n",
       "      <td>-0.014646</td>\n",
       "      <td>-0.020440</td>\n",
       "    </tr>\n",
       "    <tr>\n",
       "      <th>Children's</th>\n",
       "      <td>-0.078990</td>\n",
       "      <td>NaN</td>\n",
       "      <td>-0.009649</td>\n",
       "      <td>-0.059222</td>\n",
       "      <td>0.271729</td>\n",
       "      <td>0.440034</td>\n",
       "      <td>1.000000</td>\n",
       "      <td>0.021859</td>\n",
       "      <td>-0.073615</td>\n",
       "      <td>-0.048949</td>\n",
       "      <td>...</td>\n",
       "      <td>0.290610</td>\n",
       "      <td>-0.033646</td>\n",
       "      <td>-0.067269</td>\n",
       "      <td>0.216419</td>\n",
       "      <td>-0.017466</td>\n",
       "      <td>-0.090118</td>\n",
       "      <td>-0.003143</td>\n",
       "      <td>-0.110688</td>\n",
       "      <td>-0.047308</td>\n",
       "      <td>-0.017480</td>\n",
       "    </tr>\n",
       "    <tr>\n",
       "      <th>Comedy</th>\n",
       "      <td>-0.026140</td>\n",
       "      <td>NaN</td>\n",
       "      <td>-0.022600</td>\n",
       "      <td>-0.157842</td>\n",
       "      <td>-0.107568</td>\n",
       "      <td>-0.021696</td>\n",
       "      <td>0.021859</td>\n",
       "      <td>1.000000</td>\n",
       "      <td>-0.088126</td>\n",
       "      <td>-0.107015</td>\n",
       "      <td>...</td>\n",
       "      <td>0.004507</td>\n",
       "      <td>-0.078808</td>\n",
       "      <td>-0.077703</td>\n",
       "      <td>0.037500</td>\n",
       "      <td>-0.050748</td>\n",
       "      <td>0.083702</td>\n",
       "      <td>-0.094583</td>\n",
       "      <td>-0.223367</td>\n",
       "      <td>-0.053651</td>\n",
       "      <td>-0.011419</td>\n",
       "    </tr>\n",
       "    <tr>\n",
       "      <th>Crime</th>\n",
       "      <td>-0.038261</td>\n",
       "      <td>NaN</td>\n",
       "      <td>-0.009083</td>\n",
       "      <td>0.045644</td>\n",
       "      <td>-0.015542</td>\n",
       "      <td>-0.042126</td>\n",
       "      <td>-0.073615</td>\n",
       "      <td>-0.088126</td>\n",
       "      <td>1.000000</td>\n",
       "      <td>-0.046076</td>\n",
       "      <td>...</td>\n",
       "      <td>-0.009048</td>\n",
       "      <td>0.171963</td>\n",
       "      <td>-0.031458</td>\n",
       "      <td>-0.048852</td>\n",
       "      <td>0.078114</td>\n",
       "      <td>-0.068274</td>\n",
       "      <td>-0.046203</td>\n",
       "      <td>0.126978</td>\n",
       "      <td>-0.055262</td>\n",
       "      <td>-0.033623</td>\n",
       "    </tr>\n",
       "    <tr>\n",
       "      <th>Documentary</th>\n",
       "      <td>0.058067</td>\n",
       "      <td>NaN</td>\n",
       "      <td>-0.006039</td>\n",
       "      <td>-0.073306</td>\n",
       "      <td>-0.051707</td>\n",
       "      <td>-0.028011</td>\n",
       "      <td>-0.048949</td>\n",
       "      <td>-0.107015</td>\n",
       "      <td>-0.046076</td>\n",
       "      <td>1.000000</td>\n",
       "      <td>...</td>\n",
       "      <td>-0.020150</td>\n",
       "      <td>-0.021059</td>\n",
       "      <td>-0.042104</td>\n",
       "      <td>-0.032483</td>\n",
       "      <td>-0.033955</td>\n",
       "      <td>-0.072619</td>\n",
       "      <td>-0.044240</td>\n",
       "      <td>-0.073306</td>\n",
       "      <td>-0.019335</td>\n",
       "      <td>-0.022357</td>\n",
       "    </tr>\n",
       "    <tr>\n",
       "      <th>Drama</th>\n",
       "      <td>0.106231</td>\n",
       "      <td>NaN</td>\n",
       "      <td>-0.030031</td>\n",
       "      <td>-0.209538</td>\n",
       "      <td>-0.195258</td>\n",
       "      <td>-0.139289</td>\n",
       "      <td>-0.155460</td>\n",
       "      <td>-0.337018</td>\n",
       "      <td>0.004961</td>\n",
       "      <td>-0.131142</td>\n",
       "      <td>...</td>\n",
       "      <td>-0.057934</td>\n",
       "      <td>-0.084474</td>\n",
       "      <td>-0.182969</td>\n",
       "      <td>-0.094609</td>\n",
       "      <td>-0.072520</td>\n",
       "      <td>-0.025321</td>\n",
       "      <td>-0.174513</td>\n",
       "      <td>-0.158998</td>\n",
       "      <td>0.044162</td>\n",
       "      <td>-0.063409</td>\n",
       "    </tr>\n",
       "    <tr>\n",
       "      <th>Fantasy</th>\n",
       "      <td>-0.004451</td>\n",
       "      <td>NaN</td>\n",
       "      <td>-0.003972</td>\n",
       "      <td>0.010530</td>\n",
       "      <td>0.158589</td>\n",
       "      <td>0.048649</td>\n",
       "      <td>0.290610</td>\n",
       "      <td>0.004507</td>\n",
       "      <td>-0.009048</td>\n",
       "      <td>-0.020150</td>\n",
       "      <td>...</td>\n",
       "      <td>1.000000</td>\n",
       "      <td>-0.013851</td>\n",
       "      <td>-0.027692</td>\n",
       "      <td>-0.021364</td>\n",
       "      <td>-0.022332</td>\n",
       "      <td>-0.018194</td>\n",
       "      <td>0.103058</td>\n",
       "      <td>-0.033528</td>\n",
       "      <td>-0.024168</td>\n",
       "      <td>-0.014704</td>\n",
       "    </tr>\n",
       "    <tr>\n",
       "      <th>Film-Noir</th>\n",
       "      <td>-0.014258</td>\n",
       "      <td>NaN</td>\n",
       "      <td>-0.004151</td>\n",
       "      <td>-0.050388</td>\n",
       "      <td>-0.035541</td>\n",
       "      <td>-0.019254</td>\n",
       "      <td>-0.033646</td>\n",
       "      <td>-0.078808</td>\n",
       "      <td>0.171963</td>\n",
       "      <td>-0.021059</td>\n",
       "      <td>...</td>\n",
       "      <td>-0.013851</td>\n",
       "      <td>1.000000</td>\n",
       "      <td>-0.028941</td>\n",
       "      <td>-0.022328</td>\n",
       "      <td>0.164363</td>\n",
       "      <td>-0.035753</td>\n",
       "      <td>0.011792</td>\n",
       "      <td>0.146581</td>\n",
       "      <td>-0.025258</td>\n",
       "      <td>-0.015367</td>\n",
       "    </tr>\n",
       "    <tr>\n",
       "      <th>Horror</th>\n",
       "      <td>-0.109474</td>\n",
       "      <td>NaN</td>\n",
       "      <td>-0.008300</td>\n",
       "      <td>-0.005349</td>\n",
       "      <td>-0.042189</td>\n",
       "      <td>-0.021738</td>\n",
       "      <td>-0.067269</td>\n",
       "      <td>-0.077703</td>\n",
       "      <td>-0.031458</td>\n",
       "      <td>-0.042104</td>\n",
       "      <td>...</td>\n",
       "      <td>-0.027692</td>\n",
       "      <td>-0.028941</td>\n",
       "      <td>1.000000</td>\n",
       "      <td>-0.044641</td>\n",
       "      <td>-0.018692</td>\n",
       "      <td>-0.085023</td>\n",
       "      <td>0.071267</td>\n",
       "      <td>0.038679</td>\n",
       "      <td>-0.050498</td>\n",
       "      <td>-0.030724</td>\n",
       "    </tr>\n",
       "    <tr>\n",
       "      <th>Musical</th>\n",
       "      <td>-0.084051</td>\n",
       "      <td>NaN</td>\n",
       "      <td>-0.006403</td>\n",
       "      <td>-0.040520</td>\n",
       "      <td>0.006164</td>\n",
       "      <td>0.331357</td>\n",
       "      <td>0.216419</td>\n",
       "      <td>0.037500</td>\n",
       "      <td>-0.048852</td>\n",
       "      <td>-0.032483</td>\n",
       "      <td>...</td>\n",
       "      <td>-0.021364</td>\n",
       "      <td>-0.022328</td>\n",
       "      <td>-0.044641</td>\n",
       "      <td>1.000000</td>\n",
       "      <td>-0.036000</td>\n",
       "      <td>0.035358</td>\n",
       "      <td>-0.032957</td>\n",
       "      <td>-0.068423</td>\n",
       "      <td>-0.022478</td>\n",
       "      <td>-0.023704</td>\n",
       "    </tr>\n",
       "    <tr>\n",
       "      <th>Mystery</th>\n",
       "      <td>-0.058399</td>\n",
       "      <td>NaN</td>\n",
       "      <td>-0.006693</td>\n",
       "      <td>-0.000918</td>\n",
       "      <td>-0.033896</td>\n",
       "      <td>-0.031044</td>\n",
       "      <td>-0.017466</td>\n",
       "      <td>-0.050748</td>\n",
       "      <td>0.078114</td>\n",
       "      <td>-0.033955</td>\n",
       "      <td>...</td>\n",
       "      <td>-0.022332</td>\n",
       "      <td>0.164363</td>\n",
       "      <td>-0.018692</td>\n",
       "      <td>-0.036000</td>\n",
       "      <td>1.000000</td>\n",
       "      <td>-0.008605</td>\n",
       "      <td>0.004512</td>\n",
       "      <td>0.204359</td>\n",
       "      <td>-0.040724</td>\n",
       "      <td>-0.024777</td>\n",
       "    </tr>\n",
       "    <tr>\n",
       "      <th>Romance</th>\n",
       "      <td>-0.045284</td>\n",
       "      <td>NaN</td>\n",
       "      <td>-0.014315</td>\n",
       "      <td>-0.055904</td>\n",
       "      <td>-0.036009</td>\n",
       "      <td>-0.044864</td>\n",
       "      <td>-0.090118</td>\n",
       "      <td>0.083702</td>\n",
       "      <td>-0.068274</td>\n",
       "      <td>-0.072619</td>\n",
       "      <td>...</td>\n",
       "      <td>-0.018194</td>\n",
       "      <td>-0.035753</td>\n",
       "      <td>-0.085023</td>\n",
       "      <td>0.035358</td>\n",
       "      <td>-0.008605</td>\n",
       "      <td>1.000000</td>\n",
       "      <td>-0.069511</td>\n",
       "      <td>-0.065333</td>\n",
       "      <td>0.046561</td>\n",
       "      <td>-0.039626</td>\n",
       "    </tr>\n",
       "    <tr>\n",
       "      <th>Sci-Fi</th>\n",
       "      <td>-0.166129</td>\n",
       "      <td>NaN</td>\n",
       "      <td>-0.008721</td>\n",
       "      <td>0.273404</td>\n",
       "      <td>0.238495</td>\n",
       "      <td>0.023704</td>\n",
       "      <td>-0.003143</td>\n",
       "      <td>-0.094583</td>\n",
       "      <td>-0.046203</td>\n",
       "      <td>-0.044240</td>\n",
       "      <td>...</td>\n",
       "      <td>0.103058</td>\n",
       "      <td>0.011792</td>\n",
       "      <td>0.071267</td>\n",
       "      <td>-0.032957</td>\n",
       "      <td>0.004512</td>\n",
       "      <td>-0.069511</td>\n",
       "      <td>1.000000</td>\n",
       "      <td>0.125915</td>\n",
       "      <td>0.058951</td>\n",
       "      <td>-0.032283</td>\n",
       "    </tr>\n",
       "    <tr>\n",
       "      <th>Thriller</th>\n",
       "      <td>-0.109576</td>\n",
       "      <td>NaN</td>\n",
       "      <td>-0.014450</td>\n",
       "      <td>0.217960</td>\n",
       "      <td>0.005247</td>\n",
       "      <td>-0.034942</td>\n",
       "      <td>-0.110688</td>\n",
       "      <td>-0.223367</td>\n",
       "      <td>0.126978</td>\n",
       "      <td>-0.073306</td>\n",
       "      <td>...</td>\n",
       "      <td>-0.033528</td>\n",
       "      <td>0.146581</td>\n",
       "      <td>0.038679</td>\n",
       "      <td>-0.068423</td>\n",
       "      <td>0.204359</td>\n",
       "      <td>-0.065333</td>\n",
       "      <td>0.125915</td>\n",
       "      <td>1.000000</td>\n",
       "      <td>-0.046430</td>\n",
       "      <td>-0.053493</td>\n",
       "    </tr>\n",
       "    <tr>\n",
       "      <th>War</th>\n",
       "      <td>-0.106869</td>\n",
       "      <td>NaN</td>\n",
       "      <td>-0.007243</td>\n",
       "      <td>0.086343</td>\n",
       "      <td>0.035928</td>\n",
       "      <td>-0.014646</td>\n",
       "      <td>-0.047308</td>\n",
       "      <td>-0.053651</td>\n",
       "      <td>-0.055262</td>\n",
       "      <td>-0.019335</td>\n",
       "      <td>...</td>\n",
       "      <td>-0.024168</td>\n",
       "      <td>-0.025258</td>\n",
       "      <td>-0.050498</td>\n",
       "      <td>-0.022478</td>\n",
       "      <td>-0.040724</td>\n",
       "      <td>0.046561</td>\n",
       "      <td>0.058951</td>\n",
       "      <td>-0.046430</td>\n",
       "      <td>1.000000</td>\n",
       "      <td>-0.003287</td>\n",
       "    </tr>\n",
       "    <tr>\n",
       "      <th>Western</th>\n",
       "      <td>-0.044627</td>\n",
       "      <td>NaN</td>\n",
       "      <td>-0.004407</td>\n",
       "      <td>0.052720</td>\n",
       "      <td>-0.002909</td>\n",
       "      <td>-0.020440</td>\n",
       "      <td>-0.017480</td>\n",
       "      <td>-0.011419</td>\n",
       "      <td>-0.033623</td>\n",
       "      <td>-0.022357</td>\n",
       "      <td>...</td>\n",
       "      <td>-0.014704</td>\n",
       "      <td>-0.015367</td>\n",
       "      <td>-0.030724</td>\n",
       "      <td>-0.023704</td>\n",
       "      <td>-0.024777</td>\n",
       "      <td>-0.039626</td>\n",
       "      <td>-0.032283</td>\n",
       "      <td>-0.053493</td>\n",
       "      <td>-0.003287</td>\n",
       "      <td>1.000000</td>\n",
       "    </tr>\n",
       "  </tbody>\n",
       "</table>\n",
       "<p>21 rows × 21 columns</p>\n",
       "</div>"
      ],
      "text/plain": [
       "                    movie id  video release date   unknown    Action  \\\n",
       "movie id            1.000000                 NaN -0.001528 -0.161782   \n",
       "video release date       NaN                 NaN       NaN       NaN   \n",
       "unknown            -0.001528                 NaN  1.000000 -0.014450   \n",
       "Action             -0.161782                 NaN -0.014450  1.000000   \n",
       "Adventure          -0.131970                 NaN -0.010193  0.336875   \n",
       "Animation          -0.072909                 NaN -0.005522 -0.034942   \n",
       "Children's         -0.078990                 NaN -0.009649 -0.059222   \n",
       "Comedy             -0.026140                 NaN -0.022600 -0.157842   \n",
       "Crime              -0.038261                 NaN -0.009083  0.045644   \n",
       "Documentary         0.058067                 NaN -0.006039 -0.073306   \n",
       "Drama               0.106231                 NaN -0.030031 -0.209538   \n",
       "Fantasy            -0.004451                 NaN -0.003972  0.010530   \n",
       "Film-Noir          -0.014258                 NaN -0.004151 -0.050388   \n",
       "Horror             -0.109474                 NaN -0.008300 -0.005349   \n",
       "Musical            -0.084051                 NaN -0.006403 -0.040520   \n",
       "Mystery            -0.058399                 NaN -0.006693 -0.000918   \n",
       "Romance            -0.045284                 NaN -0.014315 -0.055904   \n",
       "Sci-Fi             -0.166129                 NaN -0.008721  0.273404   \n",
       "Thriller           -0.109576                 NaN -0.014450  0.217960   \n",
       "War                -0.106869                 NaN -0.007243  0.086343   \n",
       "Western            -0.044627                 NaN -0.004407  0.052720   \n",
       "\n",
       "                    Adventure  Animation  Children's    Comedy     Crime  \\\n",
       "movie id            -0.131970  -0.072909   -0.078990 -0.026140 -0.038261   \n",
       "video release date        NaN        NaN         NaN       NaN       NaN   \n",
       "unknown             -0.010193  -0.005522   -0.009649 -0.022600 -0.009083   \n",
       "Action               0.336875  -0.034942   -0.059222 -0.157842  0.045644   \n",
       "Adventure            1.000000   0.036869    0.271729 -0.107568 -0.015542   \n",
       "Animation            0.036869   1.000000    0.440034 -0.021696 -0.042126   \n",
       "Children's           0.271729   0.440034    1.000000  0.021859 -0.073615   \n",
       "Comedy              -0.107568  -0.021696    0.021859  1.000000 -0.088126   \n",
       "Crime               -0.015542  -0.042126   -0.073615 -0.088126  1.000000   \n",
       "Documentary         -0.051707  -0.028011   -0.048949 -0.107015 -0.046076   \n",
       "Drama               -0.195258  -0.139289   -0.155460 -0.337018  0.004961   \n",
       "Fantasy              0.158589   0.048649    0.290610  0.004507 -0.009048   \n",
       "Film-Noir           -0.035541  -0.019254   -0.033646 -0.078808  0.171963   \n",
       "Horror              -0.042189  -0.021738   -0.067269 -0.077703 -0.031458   \n",
       "Musical              0.006164   0.331357    0.216419  0.037500 -0.048852   \n",
       "Mystery             -0.033896  -0.031044   -0.017466 -0.050748  0.078114   \n",
       "Romance             -0.036009  -0.044864   -0.090118  0.083702 -0.068274   \n",
       "Sci-Fi               0.238495   0.023704   -0.003143 -0.094583 -0.046203   \n",
       "Thriller             0.005247  -0.034942   -0.110688 -0.223367  0.126978   \n",
       "War                  0.035928  -0.014646   -0.047308 -0.053651 -0.055262   \n",
       "Western             -0.002909  -0.020440   -0.017480 -0.011419 -0.033623   \n",
       "\n",
       "                    Documentary    ...      Fantasy  Film-Noir    Horror  \\\n",
       "movie id               0.058067    ...    -0.004451  -0.014258 -0.109474   \n",
       "video release date          NaN    ...          NaN        NaN       NaN   \n",
       "unknown               -0.006039    ...    -0.003972  -0.004151 -0.008300   \n",
       "Action                -0.073306    ...     0.010530  -0.050388 -0.005349   \n",
       "Adventure             -0.051707    ...     0.158589  -0.035541 -0.042189   \n",
       "Animation             -0.028011    ...     0.048649  -0.019254 -0.021738   \n",
       "Children's            -0.048949    ...     0.290610  -0.033646 -0.067269   \n",
       "Comedy                -0.107015    ...     0.004507  -0.078808 -0.077703   \n",
       "Crime                 -0.046076    ...    -0.009048   0.171963 -0.031458   \n",
       "Documentary            1.000000    ...    -0.020150  -0.021059 -0.042104   \n",
       "Drama                 -0.131142    ...    -0.057934  -0.084474 -0.182969   \n",
       "Fantasy               -0.020150    ...     1.000000  -0.013851 -0.027692   \n",
       "Film-Noir             -0.021059    ...    -0.013851   1.000000 -0.028941   \n",
       "Horror                -0.042104    ...    -0.027692  -0.028941  1.000000   \n",
       "Musical               -0.032483    ...    -0.021364  -0.022328 -0.044641   \n",
       "Mystery               -0.033955    ...    -0.022332   0.164363 -0.018692   \n",
       "Romance               -0.072619    ...    -0.018194  -0.035753 -0.085023   \n",
       "Sci-Fi                -0.044240    ...     0.103058   0.011792  0.071267   \n",
       "Thriller              -0.073306    ...    -0.033528   0.146581  0.038679   \n",
       "War                   -0.019335    ...    -0.024168  -0.025258 -0.050498   \n",
       "Western               -0.022357    ...    -0.014704  -0.015367 -0.030724   \n",
       "\n",
       "                     Musical   Mystery   Romance    Sci-Fi  Thriller  \\\n",
       "movie id           -0.084051 -0.058399 -0.045284 -0.166129 -0.109576   \n",
       "video release date       NaN       NaN       NaN       NaN       NaN   \n",
       "unknown            -0.006403 -0.006693 -0.014315 -0.008721 -0.014450   \n",
       "Action             -0.040520 -0.000918 -0.055904  0.273404  0.217960   \n",
       "Adventure           0.006164 -0.033896 -0.036009  0.238495  0.005247   \n",
       "Animation           0.331357 -0.031044 -0.044864  0.023704 -0.034942   \n",
       "Children's          0.216419 -0.017466 -0.090118 -0.003143 -0.110688   \n",
       "Comedy              0.037500 -0.050748  0.083702 -0.094583 -0.223367   \n",
       "Crime              -0.048852  0.078114 -0.068274 -0.046203  0.126978   \n",
       "Documentary        -0.032483 -0.033955 -0.072619 -0.044240 -0.073306   \n",
       "Drama              -0.094609 -0.072520 -0.025321 -0.174513 -0.158998   \n",
       "Fantasy            -0.021364 -0.022332 -0.018194  0.103058 -0.033528   \n",
       "Film-Noir          -0.022328  0.164363 -0.035753  0.011792  0.146581   \n",
       "Horror             -0.044641 -0.018692 -0.085023  0.071267  0.038679   \n",
       "Musical             1.000000 -0.036000  0.035358 -0.032957 -0.068423   \n",
       "Mystery            -0.036000  1.000000 -0.008605  0.004512  0.204359   \n",
       "Romance             0.035358 -0.008605  1.000000 -0.069511 -0.065333   \n",
       "Sci-Fi             -0.032957  0.004512 -0.069511  1.000000  0.125915   \n",
       "Thriller           -0.068423  0.204359 -0.065333  0.125915  1.000000   \n",
       "War                -0.022478 -0.040724  0.046561  0.058951 -0.046430   \n",
       "Western            -0.023704 -0.024777 -0.039626 -0.032283 -0.053493   \n",
       "\n",
       "                         War   Western  \n",
       "movie id           -0.106869 -0.044627  \n",
       "video release date       NaN       NaN  \n",
       "unknown            -0.007243 -0.004407  \n",
       "Action              0.086343  0.052720  \n",
       "Adventure           0.035928 -0.002909  \n",
       "Animation          -0.014646 -0.020440  \n",
       "Children's         -0.047308 -0.017480  \n",
       "Comedy             -0.053651 -0.011419  \n",
       "Crime              -0.055262 -0.033623  \n",
       "Documentary        -0.019335 -0.022357  \n",
       "Drama               0.044162 -0.063409  \n",
       "Fantasy            -0.024168 -0.014704  \n",
       "Film-Noir          -0.025258 -0.015367  \n",
       "Horror             -0.050498 -0.030724  \n",
       "Musical            -0.022478 -0.023704  \n",
       "Mystery            -0.040724 -0.024777  \n",
       "Romance             0.046561 -0.039626  \n",
       "Sci-Fi              0.058951 -0.032283  \n",
       "Thriller           -0.046430 -0.053493  \n",
       "War                 1.000000 -0.003287  \n",
       "Western            -0.003287  1.000000  \n",
       "\n",
       "[21 rows x 21 columns]"
      ]
     },
     "execution_count": 120,
     "metadata": {},
     "output_type": "execute_result"
    }
   ],
   "source": [
    "movies.corr()"
   ]
  },
  {
   "cell_type": "code",
   "execution_count": 133,
   "metadata": {},
   "outputs": [],
   "source": [
    "#movies[\"Action\"] == 1 "
   ]
  },
  {
   "cell_type": "code",
   "execution_count": 134,
   "metadata": {},
   "outputs": [],
   "source": [
    "#rating[\"rating\"] > 3"
   ]
  },
  {
   "cell_type": "code",
   "execution_count": 143,
   "metadata": {},
   "outputs": [
    {
     "data": {
      "text/plain": [
       "<matplotlib.text.Text at 0x119f67390>"
      ]
     },
     "execution_count": 143,
     "metadata": {},
     "output_type": "execute_result"
    },
    {
     "data": {
      "image/png": "[encoded data removed]",
      "text/plain": [
       "<matplotlib.figure.Figure at 0x11a16bb90>"
      ]
     },
     "metadata": {},
     "output_type": "display_data"
    }
   ],
   "source": [
    "plt.plot(np.arange(0.0, 5.0, 0.1) , np.cos(2*pi*np.arange(0.0, 5.0, 0.1)) , 'ro-')\n",
    "plt.axis([0, pi, -pi, pi])\n",
    "plt.ylabel('y')\n",
    "plt.xlabel('time')"
   ]
  },
  {
   "cell_type": "code",
   "execution_count": 148,
   "metadata": {},
   "outputs": [],
   "source": [
    "#plt.plot(pd.DataFrame.hist(rating[\"rating\"]))"
   ]
  },
  {
   "cell_type": "code",
   "execution_count": 149,
   "metadata": {},
   "outputs": [
    {
     "data": {
      "text/plain": [
       "1"
      ]
     },
     "execution_count": 149,
     "metadata": {},
     "output_type": "execute_result"
    }
   ],
   "source": [
    "pd.DataFrame.transpose(rating).iloc[2, 2]"
   ]
  },
  {
   "cell_type": "code",
   "execution_count": 150,
   "metadata": {},
   "outputs": [
    {
     "data": {
      "text/plain": [
       "0    3\n",
       "1    3\n",
       "2    1\n",
       "3    2\n",
       "4    1\n",
       "Name: rating, dtype: int64"
      ]
     },
     "execution_count": 150,
     "metadata": {},
     "output_type": "execute_result"
    }
   ],
   "source": [
    "rating.iloc[0:5, 2]"
   ]
  },
  {
   "cell_type": "code",
   "execution_count": 152,
   "metadata": {},
   "outputs": [],
   "source": [
    "#rating[\"rating\"]"
   ]
  },
  {
   "cell_type": "code",
   "execution_count": 153,
   "metadata": {},
   "outputs": [
    {
     "data": {
      "text/plain": [
       "array([3, 1, 2, 4, 5])"
      ]
     },
     "execution_count": 153,
     "metadata": {},
     "output_type": "execute_result"
    }
   ],
   "source": [
    "rating['rating'].unique()"
   ]
  },
  {
   "cell_type": "code",
   "execution_count": 154,
   "metadata": {},
   "outputs": [
    {
     "data": {
      "text/plain": [
       "array(['GoldenEye (1995)', 'Four Rooms (1995)', 'Get Shorty (1995)',\n",
       "       'Copycat (1995)'], dtype=object)"
      ]
     },
     "execution_count": 154,
     "metadata": {},
     "output_type": "execute_result"
    }
   ],
   "source": [
    "movies['movie title'].unique()[1:5]"
   ]
  },
  {
   "cell_type": "code",
   "execution_count": null,
   "metadata": {
    "collapsed": true
   },
   "outputs": [],
   "source": []
  }
 ],
 "metadata": {
  "kernelspec": {
   "display_name": "Python 2",
   "language": "python",
   "name": "python2"
  },
  "language_info": {
   "codemirror_mode": {
    "name": "ipython",
    "version": 2
   },
   "file_extension": ".py",
   "mimetype": "text/x-python",
   "name": "python",
   "nbconvert_exporter": "python",
   "pygments_lexer": "ipython2",
   "version": "2.7.13"
  }
 },
 "nbformat": 4,
 "nbformat_minor": 2
}
